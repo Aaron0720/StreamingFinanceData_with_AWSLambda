{
 "cells": [
  {
   "cell_type": "code",
   "execution_count": 1,
   "metadata": {},
   "outputs": [],
   "source": [
    "import pandas as pd\n",
    "import seaborn as sns\n",
    "import matplotlib.pyplot as plt"
   ]
  },
  {
   "cell_type": "code",
   "execution_count": 2,
   "metadata": {},
   "outputs": [
    {
     "data": {
      "text/html": [
       "<div>\n",
       "<style scoped>\n",
       "    .dataframe tbody tr th:only-of-type {\n",
       "        vertical-align: middle;\n",
       "    }\n",
       "\n",
       "    .dataframe tbody tr th {\n",
       "        vertical-align: top;\n",
       "    }\n",
       "\n",
       "    .dataframe thead th {\n",
       "        text-align: right;\n",
       "    }\n",
       "</style>\n",
       "<table border=\"1\" class=\"dataframe\">\n",
       "  <thead>\n",
       "    <tr style=\"text-align: right;\">\n",
       "      <th></th>\n",
       "      <th>name</th>\n",
       "      <th>hour</th>\n",
       "      <th>ts</th>\n",
       "      <th>max_high</th>\n",
       "    </tr>\n",
       "  </thead>\n",
       "  <tbody>\n",
       "    <tr>\n",
       "      <td>0</td>\n",
       "      <td>BYND</td>\n",
       "      <td>9</td>\n",
       "      <td>2020-05-14 09:39:00-04:00</td>\n",
       "      <td>137.970001</td>\n",
       "    </tr>\n",
       "    <tr>\n",
       "      <td>1</td>\n",
       "      <td>BYND</td>\n",
       "      <td>10</td>\n",
       "      <td>2020-05-14 10:31:00-04:00</td>\n",
       "      <td>139.559998</td>\n",
       "    </tr>\n",
       "    <tr>\n",
       "      <td>2</td>\n",
       "      <td>BYND</td>\n",
       "      <td>11</td>\n",
       "      <td>2020-05-14 11:15:00-04:00</td>\n",
       "      <td>141.000000</td>\n",
       "    </tr>\n",
       "    <tr>\n",
       "      <td>3</td>\n",
       "      <td>BYND</td>\n",
       "      <td>12</td>\n",
       "      <td>2020-05-14 12:57:00-04:00</td>\n",
       "      <td>138.240005</td>\n",
       "    </tr>\n",
       "    <tr>\n",
       "      <td>4</td>\n",
       "      <td>BYND</td>\n",
       "      <td>13</td>\n",
       "      <td>2020-05-14 13:00:00-04:00</td>\n",
       "      <td>137.789902</td>\n",
       "    </tr>\n",
       "    <tr>\n",
       "      <td>...</td>\n",
       "      <td>...</td>\n",
       "      <td>...</td>\n",
       "      <td>...</td>\n",
       "      <td>...</td>\n",
       "    </tr>\n",
       "    <tr>\n",
       "      <td>77</td>\n",
       "      <td>TTD</td>\n",
       "      <td>11</td>\n",
       "      <td>2020-05-14 11:18:00-04:00</td>\n",
       "      <td>296.856293</td>\n",
       "    </tr>\n",
       "    <tr>\n",
       "      <td>78</td>\n",
       "      <td>TTD</td>\n",
       "      <td>12</td>\n",
       "      <td>2020-05-14 12:57:00-04:00</td>\n",
       "      <td>294.500000</td>\n",
       "    </tr>\n",
       "    <tr>\n",
       "      <td>79</td>\n",
       "      <td>TTD</td>\n",
       "      <td>13</td>\n",
       "      <td>2020-05-14 13:31:00-04:00</td>\n",
       "      <td>296.000000</td>\n",
       "    </tr>\n",
       "    <tr>\n",
       "      <td>80</td>\n",
       "      <td>TTD</td>\n",
       "      <td>14</td>\n",
       "      <td>2020-05-14 14:59:00-04:00</td>\n",
       "      <td>295.769989</td>\n",
       "    </tr>\n",
       "    <tr>\n",
       "      <td>81</td>\n",
       "      <td>TTD</td>\n",
       "      <td>15</td>\n",
       "      <td>2020-05-14 15:24:00-04:00</td>\n",
       "      <td>297.670013</td>\n",
       "    </tr>\n",
       "  </tbody>\n",
       "</table>\n",
       "<p>82 rows × 4 columns</p>\n",
       "</div>"
      ],
      "text/plain": [
       "    name  hour                         ts    max_high\n",
       "0   BYND     9  2020-05-14 09:39:00-04:00  137.970001\n",
       "1   BYND    10  2020-05-14 10:31:00-04:00  139.559998\n",
       "2   BYND    11  2020-05-14 11:15:00-04:00  141.000000\n",
       "3   BYND    12  2020-05-14 12:57:00-04:00  138.240005\n",
       "4   BYND    13  2020-05-14 13:00:00-04:00  137.789902\n",
       "..   ...   ...                        ...         ...\n",
       "77   TTD    11  2020-05-14 11:18:00-04:00  296.856293\n",
       "78   TTD    12  2020-05-14 12:57:00-04:00  294.500000\n",
       "79   TTD    13  2020-05-14 13:31:00-04:00  296.000000\n",
       "80   TTD    14  2020-05-14 14:59:00-04:00  295.769989\n",
       "81   TTD    15  2020-05-14 15:24:00-04:00  297.670013\n",
       "\n",
       "[82 rows x 4 columns]"
      ]
     },
     "execution_count": 2,
     "metadata": {},
     "output_type": "execute_result"
    }
   ],
   "source": [
    "Stock_Data=pd.read_csv('results.csv')  \n",
    "Stock_Data"
   ]
  },
  {
   "cell_type": "code",
   "execution_count": 3,
   "metadata": {},
   "outputs": [
    {
     "data": {
      "text/plain": [
       "<matplotlib.legend.Legend at 0x28365831508>"
      ]
     },
     "execution_count": 3,
     "metadata": {},
     "output_type": "execute_result"
    },
    {
     "data": {
      "image/png": "[encoded data removed]",
      "text/plain": [
       "<Figure size 432x288 with 1 Axes>"
      ]
     },
     "metadata": {
      "needs_background": "light"
     },
     "output_type": "display_data"
    }
   ],
   "source": [
    "\n",
    "sns.lineplot(data=Stock_Data, x='hour', y='max_high', hue='name')\n",
    "\n",
    "plt.legend(bbox_to_anchor=(1.05, 1), loc=2, borderaxespad=0.)"
   ]
  },
  {
   "cell_type": "code",
   "execution_count": 4,
   "metadata": {},
   "outputs": [
    {
     "data": {
      "text/plain": [
       "<matplotlib.axes._subplots.AxesSubplot at 0x28365c03348>"
      ]
     },
     "execution_count": 4,
     "metadata": {},
     "output_type": "execute_result"
    },
    {
     "data": {
      "image/png": "[encoded data removed]",
      "text/plain": [
       "<Figure size 432x288 with 1 Axes>"
      ]
     },
     "metadata": {
      "needs_background": "light"
     },
     "output_type": "display_data"
    }
   ],
   "source": [
    "Stock_Data[Stock_Data[\"name\"]=='FB'].boxplot(column=[\"max_high\"])"
   ]
  },
  {
   "cell_type": "code",
   "execution_count": null,
   "metadata": {},
   "outputs": [],
   "source": []
  }
 ],
 "metadata": {
  "kernelspec": {
   "display_name": "Python 3",
   "language": "python",
   "name": "python3"
  },
  "language_info": {
   "codemirror_mode": {
    "name": "ipython",
    "version": 3
   },
   "file_extension": ".py",
   "mimetype": "text/x-python",
   "name": "python",
   "nbconvert_exporter": "python",
   "pygments_lexer": "ipython3",
   "version": "3.7.4"
  }
 },
 "nbformat": 4,
 "nbformat_minor": 4
}
